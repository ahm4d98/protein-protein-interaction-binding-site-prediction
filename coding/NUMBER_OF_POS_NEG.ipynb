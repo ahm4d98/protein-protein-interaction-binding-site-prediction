{
 "cells": [
  {
   "cell_type": "code",
   "execution_count": 1,
   "metadata": {},
   "outputs": [],
   "source": [
    "import glob\n",
    "import pandas as pd"
   ]
  },
  {
   "cell_type": "code",
   "execution_count": 5,
   "metadata": {},
   "outputs": [
    {
     "name": "stdout",
     "output_type": "stream",
     "text": [
      "files\\1A2K_neg.csv     46591\n",
      "files\\1ACB_neg.csv     14478\n",
      "files\\1AHW_neg.csv     81349\n",
      "files\\1AKJ_neg.csv     82103\n",
      "files\\1ATN_neg.csv     92316\n",
      "                       ...  \n",
      "files\\5GRJ_neg.csv     45573\n",
      "files\\5HGG_neg.csv     30154\n",
      "files\\5HYS_neg.csv    177142\n",
      "files\\5JMO_neg.csv     52075\n",
      "files\\5KOV_neg.csv     91043\n",
      "Length: 210, dtype: int64\n",
      "               filename    rows\n",
      "0    files\\1A2K_neg.csv   46591\n",
      "1    files\\1ACB_neg.csv   14478\n",
      "2    files\\1AHW_neg.csv   81349\n",
      "3    files\\1AKJ_neg.csv   82103\n",
      "4    files\\1ATN_neg.csv   92316\n",
      "..                  ...     ...\n",
      "205  files\\5GRJ_neg.csv   45573\n",
      "206  files\\5HGG_neg.csv   30154\n",
      "207  files\\5HYS_neg.csv  177142\n",
      "208  files\\5JMO_neg.csv   52075\n",
      "209  files\\5KOV_neg.csv   91043\n",
      "\n",
      "[210 rows x 2 columns]\n"
     ]
    }
   ],
   "source": [
    "files = glob.glob('files/*neg.csv')\n",
    "\n",
    "d = {f: sum(1 for line in open(f)) for f in files}\n",
    "\n",
    "print (pd.Series(d))\n",
    "\n",
    "print (pd.Series(d).rename('rows').rename_axis('filename').reset_index())"
   ]
  },
  {
   "cell_type": "code",
   "execution_count": 18,
   "metadata": {},
   "outputs": [],
   "source": [
    "count=0\n",
    "for s in pd.Series(d):\n",
    "    count=count+s\n"
   ]
  },
  {
   "cell_type": "code",
   "execution_count": 20,
   "metadata": {},
   "outputs": [
    {
     "name": "stdout",
     "output_type": "stream",
     "text": [
      "negative samples = 13661568\n"
     ]
    }
   ],
   "source": [
    "print(\"negative samples =\",count)"
   ]
  },
  {
   "cell_type": "code",
   "execution_count": 21,
   "metadata": {},
   "outputs": [
    {
     "name": "stdout",
     "output_type": "stream",
     "text": [
      "files\\1A2K_pos.csv     2019\n",
      "files\\1ACB_pos.csv      707\n",
      "files\\1AHW_pos.csv     4253\n",
      "files\\1AKJ_pos.csv     3171\n",
      "files\\1ATN_pos.csv     3662\n",
      "                      ...  \n",
      "files\\5GRJ_pos.csv     2567\n",
      "files\\5HGG_pos.csv     1090\n",
      "files\\5HYS_pos.csv    10313\n",
      "files\\5JMO_pos.csv     3034\n",
      "files\\5KOV_pos.csv     5741\n",
      "Length: 210, dtype: int64\n",
      "               filename   rows\n",
      "0    files\\1A2K_pos.csv   2019\n",
      "1    files\\1ACB_pos.csv    707\n",
      "2    files\\1AHW_pos.csv   4253\n",
      "3    files\\1AKJ_pos.csv   3171\n",
      "4    files\\1ATN_pos.csv   3662\n",
      "..                  ...    ...\n",
      "205  files\\5GRJ_pos.csv   2567\n",
      "206  files\\5HGG_pos.csv   1090\n",
      "207  files\\5HYS_pos.csv  10313\n",
      "208  files\\5JMO_pos.csv   3034\n",
      "209  files\\5KOV_pos.csv   5741\n",
      "\n",
      "[210 rows x 2 columns]\n"
     ]
    }
   ],
   "source": [
    "files = glob.glob('files/*pos.csv')\n",
    "\n",
    "d = {f: sum(1 for line in open(f)) for f in files}\n",
    "\n",
    "print (pd.Series(d))\n",
    "\n",
    "print (pd.Series(d).rename('rows').rename_axis('filename').reset_index())"
   ]
  },
  {
   "cell_type": "code",
   "execution_count": 22,
   "metadata": {},
   "outputs": [],
   "source": [
    "count=0\n",
    "for s in pd.Series(d):\n",
    "    count=count+s"
   ]
  },
  {
   "cell_type": "code",
   "execution_count": 23,
   "metadata": {},
   "outputs": [
    {
     "name": "stdout",
     "output_type": "stream",
     "text": [
      "positive samples = 622331\n"
     ]
    }
   ],
   "source": [
    "print(\"positive samples =\",count)"
   ]
  },
  {
   "cell_type": "code",
   "execution_count": 2,
   "metadata": {},
   "outputs": [
    {
     "data": {
      "image/png": "[encoded data removed]",
      "text/plain": [
       "<Figure size 432x288 with 1 Axes>"
      ]
     },
     "metadata": {
      "needs_background": "light"
     },
     "output_type": "display_data"
    },
    {
     "data": {
      "text/plain": [
       "<Figure size 432x288 with 0 Axes>"
      ]
     },
     "metadata": {},
     "output_type": "display_data"
    }
   ],
   "source": [
    "import matplotlib.pyplot as plt \n",
    "left = [1, 2]\n",
    "height = [622331,13661568] \n",
    "tick_label = ['positiveSamples', 'negativeSamples'] \n",
    "plt.bar(left, height, tick_label = tick_label, width = 0.8, color = ['green', 'red']) \n",
    "plt.title(\"Imbalanced Data\")\n",
    "plt.show() \n",
    "plt.savefig('image.jpg')\n",
    "\n"
   ]
  },
  {
   "cell_type": "code",
   "execution_count": null,
   "metadata": {},
   "outputs": [],
   "source": []
  }
 ],
 "metadata": {
  "kernelspec": {
   "display_name": "Python 3",
   "language": "python",
   "name": "python3"
  },
  "language_info": {
   "codemirror_mode": {
    "name": "ipython",
    "version": 3
   },
   "file_extension": ".py",
   "mimetype": "text/x-python",
   "name": "python",
   "nbconvert_exporter": "python",
   "pygments_lexer": "ipython3",
   "version": "3.8.5"
  }
 },
 "nbformat": 4,
 "nbformat_minor": 4
}
