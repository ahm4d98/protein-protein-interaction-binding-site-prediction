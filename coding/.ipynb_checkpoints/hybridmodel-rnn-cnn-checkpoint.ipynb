{
 "cells": [
  {
   "cell_type": "code",
   "execution_count": null,
   "metadata": {
    "_cell_guid": "b1076dfc-b9ad-4769-8c92-a6c4dae69d19",
    "_uuid": "8f2839f25d086af736a60e9eeb907d3b93b6e0e5",
    "execution": {
     "iopub.execute_input": "2021-07-24T08:02:19.242319Z",
     "iopub.status.busy": "2021-07-24T08:02:19.241995Z",
     "iopub.status.idle": "2021-07-24T08:02:19.251231Z",
     "shell.execute_reply": "2021-07-24T08:02:19.25011Z",
     "shell.execute_reply.started": "2021-07-24T08:02:19.242289Z"
    }
   },
   "outputs": [],
   "source": [
    "# This Python 3 environment comes with many helpful analytics libraries /kaggle/input/sample/X1BKDclean.csvined by the kaggle/python Docker image: https://github.com/kaggle/docker-python\n",
    "# For example, here's several helpful packages to load\n",
    "\n",
    "import numpy as np # linear algebra\n",
    "import pandas as pd # data processing, CSV file I/O (e.g. pd.read_csv)\n",
    "\n",
    "# Input data files are available in the read-only \"../input/\" directory\n",
    "# For example, running this (by clicking run or pressing Shift+Enter) will list all files under the input directory\n",
    "\n",
    "import os\n",
    "for dirname, _, filenames in os.walk('/kaggle/input'):\n",
    "    for filename in filenames:\n",
    "        print(os.path.join(dirname, filename))\n",
    "\n",
    "# You can write up to 20GB to the current directory (/kaggle/working/) that gets preserved as output when you create a version using \"Save & Run All\" \n",
    "# You can also write temporary files to /kaggle/temp/, but they won't be saved outside of the current session"
   ]
  },
  {
   "cell_type": "code",
   "execution_count": null,
   "metadata": {
    "execution": {
     "iopub.execute_input": "2021-07-24T08:02:19.253611Z",
     "iopub.status.busy": "2021-07-24T08:02:19.253104Z",
     "iopub.status.idle": "2021-07-24T08:02:19.428873Z",
     "shell.execute_reply": "2021-07-24T08:02:19.427901Z",
     "shell.execute_reply.started": "2021-07-24T08:02:19.253577Z"
    }
   },
   "outputs": [],
   "source": [
    "import pandas as pd\n",
    "import numpy as np\n",
    "import glob, os \n",
    "df=pd.read_csv(\"/kaggle/input/sample/X1BKDclean.csv\")\n",
    "df"
   ]
  },
  {
   "cell_type": "code",
   "execution_count": null,
   "metadata": {
    "execution": {
     "iopub.execute_input": "2021-07-24T08:02:19.430964Z",
     "iopub.status.busy": "2021-07-24T08:02:19.43062Z",
     "iopub.status.idle": "2021-07-24T08:02:19.444201Z",
     "shell.execute_reply": "2021-07-24T08:02:19.443059Z",
     "shell.execute_reply.started": "2021-07-24T08:02:19.430927Z"
    }
   },
   "outputs": [],
   "source": [
    "df=df.drop([\"Unnamed: 0\"],axis=1)\n",
    "df.isnull().any()"
   ]
  },
  {
   "cell_type": "code",
   "execution_count": null,
   "metadata": {
    "execution": {
     "iopub.execute_input": "2021-07-24T08:02:19.446559Z",
     "iopub.status.busy": "2021-07-24T08:02:19.446198Z",
     "iopub.status.idle": "2021-07-24T08:02:19.455534Z",
     "shell.execute_reply": "2021-07-24T08:02:19.454442Z",
     "shell.execute_reply.started": "2021-07-24T08:02:19.446523Z"
    }
   },
   "outputs": [],
   "source": [
    "y=df[\"prediction\"]\n",
    "y\n",
    "x=df.iloc[:,0:170]\n"
   ]
  },
  {
   "cell_type": "code",
   "execution_count": null,
   "metadata": {
    "execution": {
     "iopub.execute_input": "2021-07-24T08:02:19.457586Z",
     "iopub.status.busy": "2021-07-24T08:02:19.4572Z",
     "iopub.status.idle": "2021-07-24T08:02:19.486069Z",
     "shell.execute_reply": "2021-07-24T08:02:19.485222Z",
     "shell.execute_reply.started": "2021-07-24T08:02:19.457551Z"
    }
   },
   "outputs": [],
   "source": [
    "from sklearn.preprocessing import MinMaxScaler,StandardScaler\n",
    "x_min_max_scale=  pd.DataFrame(MinMaxScaler().fit_transform(x))"
   ]
  },
  {
   "cell_type": "code",
   "execution_count": null,
   "metadata": {
    "execution": {
     "iopub.execute_input": "2021-07-24T08:02:19.488884Z",
     "iopub.status.busy": "2021-07-24T08:02:19.488166Z",
     "iopub.status.idle": "2021-07-24T08:02:19.500862Z",
     "shell.execute_reply": "2021-07-24T08:02:19.499716Z",
     "shell.execute_reply.started": "2021-07-24T08:02:19.48884Z"
    }
   },
   "outputs": [],
   "source": [
    "from sklearn.model_selection import train_test_split\n",
    "\n",
    "x_train, x_test, y_train, y_test = train_test_split(x_min_max_scale,y , test_size=0.5, random_state=42) # 70% training and 30% test"
   ]
  },
  {
   "cell_type": "code",
   "execution_count": null,
   "metadata": {
    "execution": {
     "iopub.execute_input": "2021-07-24T08:02:19.502876Z",
     "iopub.status.busy": "2021-07-24T08:02:19.5026Z",
     "iopub.status.idle": "2021-07-24T08:02:19.507996Z",
     "shell.execute_reply": "2021-07-24T08:02:19.506915Z",
     "shell.execute_reply.started": "2021-07-24T08:02:19.502849Z"
    }
   },
   "outputs": [],
   "source": [
    "x_train=np.expand_dims(x_train, axis=2)\n",
    "x_test=np.expand_dims(x_test, axis=2)\n"
   ]
  },
  {
   "cell_type": "code",
   "execution_count": null,
   "metadata": {
    "execution": {
     "iopub.execute_input": "2021-07-24T08:02:19.510215Z",
     "iopub.status.busy": "2021-07-24T08:02:19.509832Z",
     "iopub.status.idle": "2021-07-24T08:02:19.517108Z",
     "shell.execute_reply": "2021-07-24T08:02:19.51595Z",
     "shell.execute_reply.started": "2021-07-24T08:02:19.510174Z"
    }
   },
   "outputs": [],
   "source": [
    "from tensorflow.keras.layers import LSTM"
   ]
  },
  {
   "cell_type": "code",
   "execution_count": null,
   "metadata": {
    "execution": {
     "iopub.execute_input": "2021-07-24T08:02:19.519679Z",
     "iopub.status.busy": "2021-07-24T08:02:19.519352Z",
     "iopub.status.idle": "2021-07-24T08:02:19.532067Z",
     "shell.execute_reply": "2021-07-24T08:02:19.531249Z",
     "shell.execute_reply.started": "2021-07-24T08:02:19.519652Z"
    }
   },
   "outputs": [],
   "source": [
    "from keras.models import Sequential\n",
    "from keras.layers import Dense, Conv1D, Flatten, MaxPooling1D,Dropout,BatchNormalization\n",
    "\n",
    "import tensorflow as tf\n",
    "\n",
    "LR = 0.0009 # maybe after some (10-15) epochs reduce it to 0.0008-0.0007\n",
    "drop_out = 0.38\n",
    "batch_dim = 64\n",
    "nn_epochs = 35\n",
    "\n",
    "#loss = 'categorical_hinge' # ok\n",
    "loss = 'categorical_crossentropy' # best standart\n",
    "#loss = 'mean_absolute_error' # bad\n",
    "#loss = 'mean_squared_logarithmic_error' # new best (a little better)\n",
    "def hybrid_model():\n",
    "    model = Sequential()\n",
    "    #model.add(Conv1D(filters=128, kernel_size=4, padding='vaild', activation='relu',strides=1,input_shape=(170, 1)))\n",
    "    model.add(Conv1D(filters=128, kernel_size=4 , activation='relu',strides=1,input_shape=(170, 1)))\n",
    "\n",
    "    model.add(BatchNormalization())\n",
    "    model.add(MaxPooling1D(pool_size=4))\n",
    "    model.add(Dropout(0.01))\n",
    "    #model.add(Conv1D(filters=64,kernel_size=2, padding='vaild', activation='relu'))\n",
    "    model.add(Conv1D(filters=64,kernel_size=2, activation='relu'))\n",
    "\n",
    "    model.add(BatchNormalization())\n",
    "    model.add(LSTM(25, activation='sigmoid', return_sequences=True, recurrent_activation=\"sigmoid\",dropout=0.5,recurrent_dropout=0.5))\n",
    "\n",
    "    model.add(LSTM(25, activation='sigmoid', return_sequences=True, recurrent_activation=\"sigmoid\",dropout=0.2,recurrent_dropout=0.5))\n",
    "    model.add(LSTM(25))\n",
    "    model.add(Flatten())\n",
    "    model.add(Dense(256, activation='sigmoid'))\n",
    "    model.add(Dense(2, activation='sigmoid'))\n",
    "    \n",
    "    opt = tf.keras.optimizers.Adam(lr=LR)\n",
    "    model.compile(optimizer=\"adam\",loss=\"sparse_categorical_crossentropy\",metrics=['accuracy'])\n",
    "   # m.summary()\n",
    "    return model"
   ]
  },
  {
   "cell_type": "code",
   "execution_count": null,
   "metadata": {
    "execution": {
     "iopub.execute_input": "2021-07-24T08:02:19.534027Z",
     "iopub.status.busy": "2021-07-24T08:02:19.533427Z",
     "iopub.status.idle": "2021-07-24T08:02:19.544658Z",
     "shell.execute_reply": "2021-07-24T08:02:19.54381Z",
     "shell.execute_reply.started": "2021-07-24T08:02:19.533933Z"
    }
   },
   "outputs": [],
   "source": [
    "from keras.callbacks import LearningRateScheduler, EarlyStopping\n",
    "from keras.callbacks import ReduceLROnPlateau\n",
    "from sklearn.metrics import accuracy_score\n",
    "from keras.callbacks import ModelCheckpoint, EarlyStopping\n",
    "\n",
    "n_folds=5\n",
    "epochs=150\n",
    "batch_size=128\n",
    "pat = 5\n",
    "#this is the number of epochs with no improvment after which the training will stop\n",
    "early_stopping = EarlyStopping(monitor='val_loss', patience=5000, min_delta=0, verbose=1 , mode=\"auto\",baseline=None,restore_best_weights=False)\n",
    "learning_rate_reduction = ReduceLROnPlateau(monitor='val_accuracy', patience=5000, verbose=1, factor=0.1, min_lr=0.00001)\n",
    "#define the model checkpoint callback -> this will keep on saving the model as a physical file\n",
    "model_checkpoint = ModelCheckpoint('subjek1CNN.h5', verbose=1, save_best_only=True)\n",
    "\n",
    "#define a function to fit the model\n",
    "def fit_and_evaluate(x_train, x_test, y_train, y_test, EPOCHS=epochs, BATCH_SIZE=batch_size):\n",
    "    model = None\n",
    "    model = hybrid_model() \n",
    "    results = model.fit(x_train, y_train,epochs=EPOCHS, batch_size=BATCH_SIZE,steps_per_epoch=10000,verbose=1,validation_data=(x_test, y_test),callbacks=[learning_rate_reduction,early_stopping,model_checkpoint], validation_split=0.3)   \n",
    "    acc=model.evaluate(x_test, y_test)\n",
    "    print(\"Val Score: \", model.evaluate(x_test, y_test))\n",
    "    print(\"Loss:\", acc[0], \"Accuracy:\", acc[1])\n",
    "    pred = model.predict(x_test)\n",
    "    pred_y = pred.argmax(axis=-1)\n",
    "    pred_y\n",
    "    accuracy = accuracy_score(y_test, pred_y)\n",
    "    print(accuracy)\n",
    "    return results,pred_y\n"
   ]
  },
  {
   "cell_type": "code",
   "execution_count": null,
   "metadata": {
    "execution": {
     "iopub.execute_input": "2021-07-24T08:02:19.546219Z",
     "iopub.status.busy": "2021-07-24T08:02:19.545889Z"
    }
   },
   "outputs": [],
   "source": [
    "history,pred_y= fit_and_evaluate(x_train,x_test,y_train,y_test,200,16)"
   ]
  }
 ],
 "metadata": {
  "kernelspec": {
   "display_name": "Python 3",
   "language": "python",
   "name": "python3"
  },
  "language_info": {
   "codemirror_mode": {
    "name": "ipython",
    "version": 3
   },
   "file_extension": ".py",
   "mimetype": "text/x-python",
   "name": "python",
   "nbconvert_exporter": "python",
   "pygments_lexer": "ipython3",
   "version": "3.8.5"
  }
 },
 "nbformat": 4,
 "nbformat_minor": 4
}
